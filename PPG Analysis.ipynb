{
 "cells": [
  {
   "cell_type": "markdown",
   "id": "civilian-reflection",
   "metadata": {},
   "source": [
    "# This notebook is for PPG analysis and feature extraction\n",
    "\n"
   ]
  },
  {
   "cell_type": "code",
   "execution_count": null,
   "id": "yellow-athens",
   "metadata": {},
   "outputs": [],
   "source": [
    "import neurokit2 as nk\n",
    "import pandas as pd\n",
    "import numpy as np\n",
    "from tqdm import tqdm\n",
    "\n",
    "#inv gaussian for point process\n",
    "def invgauss_fit(bool_peaks, get='hr'):\n",
    "    peaks = np.where(bool_peaks==1)[0]\n",
    "    waiting_times = np.array(peaks[1:]-peaks[:-1])\n",
    "    frequencies = 1.0/waiting_times\n",
    "    mu = waiting_times.mean()\n",
    "    #sns.distplot(frequencies)\n",
    "    theta = 1.0/(((frequencies - 1.0/mu).sum())/frequencies.shape[0])\n",
    "    \n",
    "    mean_arrival_rate = 1.0/mu + 1.0/theta\n",
    "    std_arrival_rate = np.sqrt(1.0/(mu*theta) + 2.0/(theta*theta))\n",
    "    std_arrival_time = np.sqrt(mu**3/theta)\n",
    "    \n",
    "    if get == 'hr':\n",
    "        return mean_arrival_rate\n",
    "    elif get=='hrv':\n",
    "        return std_arrival_rate\n",
    "\n",
    "\n",
    "#hr from point process\n",
    "def inv_hr(bool_peaks):\n",
    "    return invgauss_fit(bool_peaks, get='hr')\n",
    "\n",
    "\n",
    "#hrv from point process\n",
    "def inv_hrv(bool_peaks):\n",
    "    return invgauss_fit(bool_peaks, get='hrv')\n",
    "\n",
    "\n",
    "#hr from point process\n",
    "def get_peaks_hr(PPG_rolled):\n",
    "    sample_rate=100\n",
    "    signals, info = nk.ppg_process(PPG_rolled, sampling_rate=sample_rate)\n",
    "    peaks = signals[\"PPG_Peaks\"]\n",
    "    arrival_hr = inv_hr(peaks)\n",
    "    return arrival_hr\n",
    "\n",
    "\n",
    "#hrv from point process\n",
    "def get_peaks_hrv(PPG_rolled):\n",
    "    sample_rate=100\n",
    "    signals, info = nk.ppg_process(PPG_rolled, sampling_rate=sample_rate)\n",
    "    peaks = signals[\"PPG_Peaks\"]\n",
    "    arrival_hrv = inv_hrv(peaks)\n",
    "    return arrival_hrv\n",
    "\n",
    "\n",
    "#hr from NK\n",
    "def get_peaks_hr_nk(PPG_rolled):\n",
    "    sample_rate=100\n",
    "    signals, info = nk.ppg_process(PPG_rolled, sampling_rate=sample_rate)\n",
    "    peaks = signals[\"PPG_Peaks\"]\n",
    "    avg_hr_nk = signals[\"PPG_Rate\"].mean()\n",
    "    return avg_hr_nk\n",
    "\n",
    "\n",
    "#hrv from NK\n",
    "def get_peaks_hrv_nk(PPG_rolled):\n",
    "    sample_rate=100\n",
    "    signals, info = nk.ppg_process(PPG_rolled, sampling_rate=sample_rate)\n",
    "    peaks = signals[\"PPG_Peaks\"]\n",
    "    std_hr_nk = signals[\"PPG_Rate\"].std()\n",
    "    return std_hr_nk\n",
    "\n",
    "\n",
    "def get_hrv_all(PPG_rolled):\n",
    "    sample_rate=100\n",
    "    signals, info = nk.ppg_process(PPG_rolled, sampling_rate=sample_rate)\n",
    "    hrv_all = nk.hrv(peaks, sampling_rate=100, show=False)\n",
    "    return hrv_all"
   ]
  },
  {
   "cell_type": "markdown",
   "id": "dense-message",
   "metadata": {},
   "source": [
    "### Reading the PPG file"
   ]
  },
  {
   "cell_type": "code",
   "execution_count": null,
   "id": "streaming-collapse",
   "metadata": {},
   "outputs": [],
   "source": [
    "data = pd.read_csv(\"D:/Google Drive/UVA_PhD/Projects/Structural Equation Modeling/03072021_going_raw.csv\")"
   ]
  },
  {
   "cell_type": "markdown",
   "id": "cross-gospel",
   "metadata": {},
   "source": [
    "### Run functions on all sensors"
   ]
  },
  {
   "cell_type": "code",
   "execution_count": null,
   "id": "athletic-projection",
   "metadata": {},
   "outputs": [],
   "source": [
    "#list of all sensors\n",
    "list_of_sensors = [\"PPG1\",\"PPG3\"]\n",
    "\n",
    "#window size: example 4min*60s*100 = 24000\n",
    "w= 24000\n",
    "tqdm.pandas()\n",
    "\n",
    "for sensor in list_of_sensors:\n",
    "    data[sensor+\"_hr\"] = data[sensor].rolling(window=w).progress_apply(get_peaks_hr)\n",
    "    data[sensor+\"_hrv\"] = data[sensor].rolling(window=w).progress_apply(get_peaks_hrv)\n",
    "    data[sensor+\"_hr_nk\"] = data[sensor].rolling(window=w).progress_apply(get_peaks_hr_nk)\n",
    "    data[sensor+\"_hrv_nk\"] = data[sensor].rolling(window=w).progress_apply(get_peaks_hrv_nk)\n",
    "    #data[\"zzzz\"] = data[sensor].rolling(window=w).apply(get_hrv_all)"
   ]
  },
  {
   "cell_type": "markdown",
   "id": "homeless-symphony",
   "metadata": {},
   "source": [
    "### Run feature extraciton with a for loop"
   ]
  },
  {
   "cell_type": "code",
   "execution_count": null,
   "id": "another-class",
   "metadata": {},
   "outputs": [],
   "source": [
    "import math\n",
    "import heartpy as hp\n",
    "from tqdm import tqdm\n",
    "\n",
    "length_of_all = data.shape[0]\n",
    "\n",
    "j=0\n",
    "duration = 24000 #datapoints\n",
    "\n",
    "results_feat = []\n",
    "results_feat_nk = []\n",
    "\n",
    "for j in tqdm(range(length_of_all-duration)):\n",
    "    windowed_data = data.iloc[j:j+duration]\n",
    "    try:\n",
    "        signals, info = nk.ppg_process(windowed_data[\"PPG3\"].values, sampling_rate=sample_rate)\n",
    "        hr = get_peaks_hr(signals[\"PPG_Peaks\"].values)\n",
    "        hrv = get_peaks_hrv(signals[\"PPG_Peaks\"].values)\n",
    "        hr_nk = get_peaks_hr_nk(signals[\"PPG_Peaks\"].values)\n",
    "        hrv_nk = get_peaks_hrv_nk(signals[\"PPG_Peaks\"].values)\n",
    "        all_hrv_feats = nk.hrv(signals[\"PPG_Peaks\"], sampling_rate=100, show=False)\n",
    "\n",
    "        results_feat.append({\"row\":j,\"Timestamp\":windowed_data[\"Timestamp\"].iloc[duration-1],\"PPG3_hr\":hr,\"PPG3_hrv\":hrv,\n",
    "                            \"PPG3_hr_nk\":hr_nk,\"PPG3_hrv_nk\":hrv_nk})\n",
    "        all_hrv_feats[\"Timestamp\"] = windowed_data[\"Timestamp\"].iloc[duration-1]\n",
    "        results_feat_nk.append(all_hrv_feats)\n",
    "    except:\n",
    "        pass\n",
    "   \n",
    "\n"
   ]
  }
 ],
 "metadata": {
  "kernelspec": {
   "display_name": "Python 3",
   "language": "python",
   "name": "python3"
  },
  "language_info": {
   "codemirror_mode": {
    "name": "ipython",
    "version": 3
   },
   "file_extension": ".py",
   "mimetype": "text/x-python",
   "name": "python",
   "nbconvert_exporter": "python",
   "pygments_lexer": "ipython3",
   "version": "3.6.5"
  }
 },
 "nbformat": 4,
 "nbformat_minor": 5
}
